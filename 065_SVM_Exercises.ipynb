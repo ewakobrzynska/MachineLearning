{
  "cells": [
    {
      "cell_type": "markdown",
      "metadata": {
        "id": "view-in-github",
        "colab_type": "text"
      },
      "source": [
        "<a href=\"https://colab.research.google.com/github/ewakobrzynska/MachineLearning/blob/main/065_SVM_Exercises.ipynb\" target=\"_parent\"><img src=\"https://colab.research.google.com/assets/colab-badge.svg\" alt=\"Open In Colab\"/></a>"
      ]
    },
    {
      "cell_type": "markdown",
      "metadata": {
        "id": "hLapVGjyzyzF"
      },
      "source": [
        "# Exercises\n",
        "\n",
        "In this section we have two exercises:\n",
        "1. Implement the polynomial kernel.\n",
        "2. Implement the multiclass C-SVM."
      ]
    },
    {
      "cell_type": "markdown",
      "metadata": {
        "id": "dcXQNyaRzyzG"
      },
      "source": [
        "## Polynomial kernel\n",
        "\n",
        "You need to extend the ``build_kernel`` function and implement the polynomial kernel if the ``kernel_type`` is set to 'poly'. The equation that needs to be implemented:\n",
        "\\begin{equation}\n",
        "K=(X^{T}*Y)^{d}.\n",
        "\\end{equation}"
      ]
    },
    {
      "cell_type": "code",
      "execution_count": 1,
      "metadata": {
        "id": "qt4uMzQszyzG"
      },
      "outputs": [],
      "source": [
        "def build_kernel(data_set, kernel_type='linear'):\n",
        "    kernel = np.dot(data_set, data_set.T)\n",
        "    if kernel_type == 'rbf':\n",
        "        sigma = 1.0\n",
        "        objects_count = len(data_set)\n",
        "        b = np.ones((len(data_set), 1))\n",
        "        kernel -= 0.5 * (np.dot((np.diag(kernel)*np.ones((1, objects_count))).T, b.T)\n",
        "                         + np.dot(b, (np.diag(kernel) * np.ones((1, objects_count))).T.T))\n",
        "        kernel = np.exp(kernel / (2. * sigma ** 2))\n",
        "    elif kernel_type == 'poly':\n",
        "        kernel = (kernel + 1) ** d\n",
        "    return kernel"
      ]
    },
    {
      "cell_type": "markdown",
      "metadata": {
        "id": "28776hFKzyzG"
      },
      "source": [
        "## Implement a multiclass C-SVM\n",
        "\n",
        "Use the classification method that we used in notebook 7.3 and IRIS dataset to build a multiclass C-SVM classifier. Most implementation is about a function that will return the proper data set that need to be used for the prediction. You need to implement:\n",
        "- ``choose_set_for_label``\n",
        "- ``get_labels_count``"
      ]
    },
    {
      "cell_type": "code",
      "execution_count": 2,
      "metadata": {
        "id": "R1TbSNzLzyzG"
      },
      "outputs": [],
      "source": [
        "def choose_set_for_label(data_set, labels, label):\n",
        "    train_data_set = data_set\n",
        "    train_labels = np.where(labels == label, 1, -1)\n",
        "    return train_data_set, train_labels\n"
      ]
    },
    {
      "cell_type": "code",
      "execution_count": 3,
      "metadata": {
        "id": "fi8Zq0mJzyzG"
      },
      "outputs": [],
      "source": [
        "def get_labels_count(labels):\n",
        "    return len(np.unique(labels))\n"
      ]
    },
    {
      "cell_type": "markdown",
      "source": [
        "Use the code that we have implemented earlier:"
      ],
      "metadata": {
        "id": "k0pqvxZm5Uhj"
      }
    },
    {
      "cell_type": "code",
      "execution_count": 7,
      "metadata": {
        "id": "w8d4k5_EzyzH"
      },
      "outputs": [],
      "source": [
        "def train(train_data_set, train_labels, kernel_type='linear', C=10, threshold=1e-5):\n",
        "    kernel = build_kernel(train_data_set, kernel_type=kernel_type)\n",
        "    objects_count = len(train_data_set)\n",
        "\n",
        "    P = train_labels * train_labels.transpose() * kernel\n",
        "    q = -np.ones((objects_count, 1))\n",
        "    G = np.concatenate((np.eye(objects_count), -np.eye(objects_count)))\n",
        "    h = np.concatenate((C * np.ones((objects_count, 1)), np.zeros((objects_count, 1))))\n",
        "\n",
        "    A = train_labels.reshape(1, objects_count)\n",
        "    A = A.astype(float)\n",
        "    b = 0.0\n",
        "\n",
        "    sol = cvxopt.solvers.qp(cvxopt.matrix(P), cvxopt.matrix(q), cvxopt.matrix(G), cvxopt.matrix(h), cvxopt.matrix(A), cvxopt.matrix(b))\n",
        "\n",
        "    lambdas = np.array(sol['x'])\n",
        "\n",
        "    support_vectors_id = np.where(lambdas > threshold)[0]\n",
        "    vector_number = len(support_vectors_id)\n",
        "    support_vectors = train_data_set[support_vectors_id, :]\n",
        "\n",
        "    lambdas = lambdas[support_vectors_id]\n",
        "    targets = train_labels[support_vectors_id]\n",
        "\n",
        "    b = np.sum(targets)\n",
        "    for n in range(vector_number):\n",
        "        b -= np.sum(lambdas * targets * np.reshape(kernel[support_vectors_id[n], support_vectors_id], (vector_number, 1)))\n",
        "    b /= len(lambdas)\n",
        "\n",
        "    return lambdas, support_vectors, support_vectors_id, b, targets, vector_number\n",
        "\n",
        "def build_kernel(data_set, kernel_type='linear'):\n",
        "    kernel = np.dot(data_set, data_set.T)\n",
        "    if kernel_type == 'rbf':\n",
        "        sigma = 1.0\n",
        "        objects_count = len(data_set)\n",
        "        b = np.ones((len(data_set), 1))\n",
        "        kernel -= 0.5 * (np.dot((np.diag(kernel)*np.ones((1, objects_count))).T, b.T)\n",
        "                         + np.dot(b, (np.diag(kernel) * np.ones((1, objects_count))).T.T))\n",
        "        kernel = np.exp(kernel / (2. * sigma ** 2))\n",
        "    return kernel\n",
        "\n",
        "def classify_rbf(test_data_set, train_data_set, lambdas, targets, b, vector_number, support_vectors, support_vectors_id):\n",
        "    kernel = np.dot(test_data_set, support_vectors.T)\n",
        "    sigma = 1.0\n",
        "    #K = np.dot(test_data_set, support_vectors.T)\n",
        "    #kernel = build_kernel(train_data_set, kernel_type='rbf')\n",
        "    c = (1. / sigma * np.sum(test_data_set ** 2, axis=1) * np.ones((1, np.shape(test_data_set)[0]))).T\n",
        "    c = np.dot(c, np.ones((1, np.shape(kernel)[1])))\n",
        "    #aa = np.dot((np.diag(K)*np.ones((1,len(test_data_set)))).T[support_vectors_id], np.ones((1, np.shape(K)[0]))).T\n",
        "    sv = (np.diag(np.dot(train_data_set, train_data_set.T))*np.ones((1,len(train_data_set)))).T[support_vectors_id]\n",
        "    aa = np.dot(sv,np.ones((1,np.shape(kernel)[0]))).T\n",
        "    kernel = kernel - 0.5 * c - 0.5 * aa\n",
        "    kernel = np.exp(kernel / (2. * sigma ** 2))\n",
        "\n",
        "    y = np.zeros((np.shape(test_data_set)[0], 1))\n",
        "    for j in range(np.shape(test_data_set)[0]):\n",
        "        for i in range(vector_number):\n",
        "            y[j] += lambdas[i] * targets[i] * kernel[j, i]\n",
        "        y[j] += b\n",
        "    return np.sign(y)"
      ]
    },
    {
      "cell_type": "code",
      "execution_count": 8,
      "metadata": {
        "colab": {
          "base_uri": "https://localhost:8080/"
        },
        "id": "lIN8kGECzyzH",
        "outputId": "8b4e4928-b6de-4a2b-9373-6eb32134767e"
      },
      "outputs": [
        {
          "output_type": "stream",
          "name": "stdout",
          "text": [
            "     pcost       dcost       gap    pres   dres\n",
            " 0: -2.0117e+00 -2.3038e+03  6e+03  3e-01  1e-13\n",
            " 1:  1.9188e+00 -1.7102e+02  3e+02  1e-02  9e-14\n",
            " 2:  1.2781e+00 -3.5437e+00  6e+00  1e-04  9e-15\n",
            " 3:  2.2764e-01 -3.7188e-01  6e-01  6e-07  3e-15\n",
            " 4:  1.3590e-02 -7.2173e-02  9e-02  2e-16  2e-15\n",
            " 5: -9.8857e-03 -2.0421e-02  1e-02  2e-16  6e-16\n",
            " 6: -1.1871e-02 -1.5512e-02  4e-03  2e-16  3e-16\n",
            " 7: -1.2996e-02 -1.6100e-02  3e-03  2e-16  3e-16\n",
            " 8: -1.4904e-02 -1.5194e-02  3e-04  2e-16  4e-16\n",
            " 9: -1.4988e-02 -1.5028e-02  4e-05  2e-16  4e-16\n",
            "10: -1.5003e-02 -1.5005e-02  2e-06  2e-16  4e-16\n",
            "11: -1.5004e-02 -1.5004e-02  1e-07  2e-16  4e-16\n",
            "12: -1.5004e-02 -1.5004e-02  4e-09  2e-16  4e-16\n",
            "Optimal solution found.\n",
            "     pcost       dcost       gap    pres   dres\n",
            " 0: -2.6391e+00 -2.3068e+03  6e+03  3e-01  9e-14\n",
            " 1:  2.0460e+00 -1.3429e+02  2e+02  8e-03  9e-14\n",
            " 2:  1.1171e+00 -7.6090e+00  1e+01  4e-04  7e-15\n",
            " 3:  3.1672e-01 -5.2100e-01  9e-01  3e-06  8e-15\n",
            " 4:  2.5144e-02 -9.1996e-02  1e-01  2e-16  2e-15\n",
            " 5: -8.9974e-03 -2.4025e-02  2e-02  2e-16  9e-16\n",
            " 6: -1.1834e-02 -1.5428e-02  4e-03  2e-16  4e-16\n",
            " 7: -1.3354e-02 -1.6222e-02  3e-03  2e-16  3e-16\n",
            " 8: -1.4927e-02 -1.5088e-02  2e-04  2e-16  3e-16\n",
            " 9: -1.4977e-02 -1.5036e-02  6e-05  2e-16  4e-16\n",
            "10: -1.5003e-02 -1.5005e-02  2e-06  2e-16  4e-16\n",
            "11: -1.5004e-02 -1.5004e-02  1e-07  2e-16  4e-16\n",
            "Optimal solution found.\n",
            "     pcost       dcost       gap    pres   dres\n",
            " 0: -2.7593e+00 -2.2446e+03  5e+03  3e-01  8e-14\n",
            " 1:  1.4634e+00 -1.2900e+02  2e+02  8e-03  8e-14\n",
            " 2:  9.9958e-01 -3.5860e+00  6e+00  1e-04  6e-15\n",
            " 3:  1.9599e-01 -3.2556e-01  5e-01  1e-06  4e-15\n",
            " 4:  1.1975e-02 -6.1969e-02  7e-02  2e-16  2e-15\n",
            " 5: -8.4076e-03 -1.7497e-02  9e-03  2e-16  7e-16\n",
            " 6: -1.0723e-02 -1.4370e-02  4e-03  2e-16  4e-16\n",
            " 7: -1.1410e-02 -1.4693e-02  3e-03  2e-16  3e-16\n",
            " 8: -1.3293e-02 -1.3706e-02  4e-04  2e-16  4e-16\n",
            " 9: -1.3400e-02 -1.3463e-02  6e-05  2e-16  3e-16\n",
            "10: -1.3395e-02 -1.3455e-02  6e-05  1e-16  4e-16\n",
            "11: -1.3419e-02 -1.3423e-02  4e-06  2e-16  4e-16\n",
            "12: -1.3420e-02 -1.3420e-02  3e-07  2e-16  4e-16\n",
            "13: -1.3420e-02 -1.3420e-02  5e-09  1e-16  4e-16\n",
            "Optimal solution found.\n",
            "0.28888888888888886\n"
          ]
        }
      ],
      "source": [
        "from sklearn.model_selection import train_test_split\n",
        "from sklearn.metrics import accuracy_score\n",
        "import numpy as np\n",
        "import cvxopt\n",
        "from sklearn.datasets import load_iris\n",
        "import numpy as np\n",
        "from sklearn.model_selection import train_test_split\n",
        "import cvxopt\n",
        "from itertools import combinations\n",
        "\n",
        "iris = load_iris()\n",
        "data_set = iris.data\n",
        "labels = iris.target\n",
        "# Assuming train_data_set and train_labels are defined\n",
        "train_data_set, test_data_set, train_labels, test_labels = train_test_split(data_set, labels, test_size=0.3, random_state=42)\n",
        "num_classes = get_labels_count(train_labels)\n",
        "classifiers = []\n",
        "\n",
        "for label in range(num_classes):\n",
        "    binary_train_data_set, binary_train_labels = choose_set_for_label(train_data_set, train_labels, label)\n",
        "    lambdas, support_vectors, support_vectors_id, b, targets, vector_number = train(binary_train_data_set, binary_train_labels, kernel_type='poly')\n",
        "    classifiers.append((lambdas, support_vectors, support_vectors_id, b, targets, vector_number))\n",
        "\n",
        "def classify_multiclass(test_data_set, classifiers):\n",
        "    predictions = np.zeros((test_data_set.shape[0], len(classifiers)))\n",
        "    for i, (lambdas, support_vectors, support_vectors_id, b, targets, vector_number) in enumerate(classifiers):\n",
        "        kernel = np.dot(test_data_set, support_vectors.T)\n",
        "        kernel = (kernel + 1) ** 3\n",
        "        y = np.zeros((test_data_set.shape[0], 1))\n",
        "        for j in range(test_data_set.shape[0]):\n",
        "            for k in range(vector_number):\n",
        "                y[j] += lambdas[k] * targets[k] * kernel[j, k]\n",
        "            y[j] += b\n",
        "        predictions[:, i] = y.ravel()\n",
        "    return np.argmax(predictions, axis=1)\n",
        "\n",
        "predicted = classify_multiclass(test_data_set, classifiers)\n",
        "print(accuracy_score(predicted, test_labels))\n"
      ]
    }
  ],
  "metadata": {
    "kernelspec": {
      "display_name": "Python 3",
      "language": "python",
      "name": "python3"
    },
    "language_info": {
      "codemirror_mode": {
        "name": "ipython",
        "version": 3
      },
      "file_extension": ".py",
      "mimetype": "text/x-python",
      "name": "python",
      "nbconvert_exporter": "python",
      "pygments_lexer": "ipython3",
      "version": "3.7.3"
    },
    "colab": {
      "provenance": [],
      "include_colab_link": true
    }
  },
  "nbformat": 4,
  "nbformat_minor": 0
}